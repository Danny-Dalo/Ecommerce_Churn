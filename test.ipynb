{
 "cells": [
  {
   "cell_type": "code",
   "execution_count": 150,
   "id": "e2ec8d3e",
   "metadata": {},
   "outputs": [],
   "source": [
    "import pandas as pd\n",
    "import joblib\n",
    "import warnings\n",
    "\n",
    "warnings.filterwarnings(\"ignore\", message=\"X does not have valid feature names\")\n"
   ]
  },
  {
   "cell_type": "code",
   "execution_count": 151,
   "id": "027b581e",
   "metadata": {},
   "outputs": [],
   "source": [
    "model = joblib.load(\"artifacts/logistic_regression_model.pkl\")\n",
    "pipeline = joblib.load(\"artifacts/logistic_regression_pipeline.pkl\")"
   ]
  },
  {
   "cell_type": "code",
   "execution_count": 152,
   "id": "0635b39c",
   "metadata": {},
   "outputs": [],
   "source": [
    "customer_data = {\n",
    "    # Unique Identifier\n",
    "    \"CustomerID\": 5001,\n",
    "\n",
    "    # Customer Usage & Profile\n",
    "    \"Tenure(months)\": 18.0,                       \n",
    "    \"PreferredLoginDevice\": \"Mobile Phone\", \n",
    "    \"CityTier\": 2,                        \n",
    "    \"WarehouseToHome\": 15.5,              \n",
    "    \"PreferredPaymentMode\": \"Debit Card\", \n",
    "    \"Gender\": \"Female\",\n",
    "    \"HourSpendOnApp\": 3.5,                \n",
    "    \"NumberOfDeviceRegistered\": 3,        \n",
    "    \"PreferredOrderCat\": \"Laptop & Accessory\",\n",
    "    \"SatisfactionScore\": 4,               \n",
    "    \"MaritalStatus\": \"Single\",\n",
    "    \"NumberOfAddress\": 2,                 \n",
    "\n",
    "    # Transactional & Behavioral Metrics\n",
    "    \"Complain\": 0,                       \n",
    "    \"OrderAmountHikeFromlastYear(%)\": 15.0,  \n",
    "    \"CouponUsed\": 5,                      \n",
    "    \"OrderCount\": 12,                    \n",
    "    \"DaySinceLastOrder\": 7,               \n",
    "    \"CashbackAmount\": 320.50,             \n",
    "\n",
    "    # Target Variable\n",
    "    \"Churn\": 0                           \n",
    "}"
   ]
  },
  {
   "cell_type": "code",
   "execution_count": 153,
   "id": "2915c314",
   "metadata": {},
   "outputs": [
    {
     "data": {
      "text/html": [
       "<div>\n",
       "<style scoped>\n",
       "    .dataframe tbody tr th:only-of-type {\n",
       "        vertical-align: middle;\n",
       "    }\n",
       "\n",
       "    .dataframe tbody tr th {\n",
       "        vertical-align: top;\n",
       "    }\n",
       "\n",
       "    .dataframe thead th {\n",
       "        text-align: right;\n",
       "    }\n",
       "</style>\n",
       "<table border=\"1\" class=\"dataframe\">\n",
       "  <thead>\n",
       "    <tr style=\"text-align: right;\">\n",
       "      <th></th>\n",
       "      <th>CustomerID</th>\n",
       "      <th>Tenure(months)</th>\n",
       "      <th>PreferredLoginDevice</th>\n",
       "      <th>CityTier</th>\n",
       "      <th>WarehouseToHome</th>\n",
       "      <th>PreferredPaymentMode</th>\n",
       "      <th>Gender</th>\n",
       "      <th>HourSpendOnApp</th>\n",
       "      <th>NumberOfDeviceRegistered</th>\n",
       "      <th>PreferredOrderCat</th>\n",
       "      <th>SatisfactionScore</th>\n",
       "      <th>MaritalStatus</th>\n",
       "      <th>NumberOfAddress</th>\n",
       "      <th>Complain</th>\n",
       "      <th>OrderAmountHikeFromlastYear(%)</th>\n",
       "      <th>CouponUsed</th>\n",
       "      <th>OrderCount</th>\n",
       "      <th>DaySinceLastOrder</th>\n",
       "      <th>CashbackAmount</th>\n",
       "      <th>Churn</th>\n",
       "    </tr>\n",
       "  </thead>\n",
       "  <tbody>\n",
       "    <tr>\n",
       "      <th>0</th>\n",
       "      <td>5001</td>\n",
       "      <td>18.0</td>\n",
       "      <td>Mobile Phone</td>\n",
       "      <td>2</td>\n",
       "      <td>15.5</td>\n",
       "      <td>Debit Card</td>\n",
       "      <td>Female</td>\n",
       "      <td>3.5</td>\n",
       "      <td>3</td>\n",
       "      <td>Laptop &amp; Accessory</td>\n",
       "      <td>4</td>\n",
       "      <td>Single</td>\n",
       "      <td>2</td>\n",
       "      <td>0</td>\n",
       "      <td>15.0</td>\n",
       "      <td>5</td>\n",
       "      <td>12</td>\n",
       "      <td>7</td>\n",
       "      <td>320.5</td>\n",
       "      <td>0</td>\n",
       "    </tr>\n",
       "  </tbody>\n",
       "</table>\n",
       "</div>"
      ],
      "text/plain": [
       "   CustomerID  Tenure(months) PreferredLoginDevice  CityTier  WarehouseToHome  \\\n",
       "0        5001            18.0         Mobile Phone         2             15.5   \n",
       "\n",
       "  PreferredPaymentMode  Gender  HourSpendOnApp  NumberOfDeviceRegistered  \\\n",
       "0           Debit Card  Female             3.5                         3   \n",
       "\n",
       "    PreferredOrderCat  SatisfactionScore MaritalStatus  NumberOfAddress  \\\n",
       "0  Laptop & Accessory                  4        Single                2   \n",
       "\n",
       "   Complain  OrderAmountHikeFromlastYear(%)  CouponUsed  OrderCount  \\\n",
       "0         0                            15.0           5          12   \n",
       "\n",
       "   DaySinceLastOrder  CashbackAmount  Churn  \n",
       "0                  7           320.5      0  "
      ]
     },
     "execution_count": 153,
     "metadata": {},
     "output_type": "execute_result"
    }
   ],
   "source": [
    "df = pd.DataFrame([customer_data])\n",
    "df.head()"
   ]
  },
  {
   "cell_type": "code",
   "execution_count": 154,
   "id": "cf34f495",
   "metadata": {},
   "outputs": [],
   "source": [
    "processed = pipeline.transform(df)"
   ]
  },
  {
   "cell_type": "code",
   "execution_count": 157,
   "id": "0909ec2b",
   "metadata": {},
   "outputs": [
    {
     "data": {
      "text/plain": [
       "0"
      ]
     },
     "execution_count": 157,
     "metadata": {},
     "output_type": "execute_result"
    }
   ],
   "source": [
    "predictions = model.predict(processed)\n",
    "\n",
    "predictions[0]"
   ]
  },
  {
   "cell_type": "code",
   "execution_count": null,
   "id": "fcbeb78c",
   "metadata": {},
   "outputs": [
    {
     "name": "stdout",
     "output_type": "stream",
     "text": [
      "[[0.99310944 0.00689056]]\n"
     ]
    }
   ],
   "source": [
    "print(model.predict_proba(processed))"
   ]
  },
  {
   "cell_type": "code",
   "execution_count": 3,
   "id": "5277eb84",
   "metadata": {},
   "outputs": [
    {
     "name": "stdout",
     "output_type": "stream",
     "text": [
      "1.5.1\n"
     ]
    }
   ],
   "source": [
    "import sklearn\n",
    "print(sklearn.__version__)"
   ]
  },
  {
   "cell_type": "code",
   "execution_count": null,
   "id": "c74034d1",
   "metadata": {},
   "outputs": [],
   "source": []
  }
 ],
 "metadata": {
  "kernelspec": {
   "display_name": "base",
   "language": "python",
   "name": "python3"
  },
  "language_info": {
   "codemirror_mode": {
    "name": "ipython",
    "version": 3
   },
   "file_extension": ".py",
   "mimetype": "text/x-python",
   "name": "python",
   "nbconvert_exporter": "python",
   "pygments_lexer": "ipython3",
   "version": "3.12.7"
  }
 },
 "nbformat": 4,
 "nbformat_minor": 5
}
