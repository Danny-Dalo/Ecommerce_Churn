{
 "cells": [
  {
   "cell_type": "markdown",
   "id": "3eef33ed",
   "metadata": {},
   "source": [
    "# Feature Engieering Notebook\n",
    "\n",
    "__Our cleaned dataset is now ready for the tranformation process. We will carry out transformations on our column values to prepare our data for the model we will be building__\n",
    "__We will performing operations on our data:__\n",
    "\n",
    "+ Encoding Variables: We are going to be encoding categorical columns(Label encoding, One-hot encoding) from texts to numbers for the model to be able to understand.\n",
    "+ Feature Creation: After going through our columns, we may have to create new features out of our existing ones.\n",
    "+ Scaling/Normalization: for our numerical columns, we wiil perform transformations to ensure they are on a similar scale for our model.\n",
    "\n",
    "__Even complex models will perform poorly when given bad data to work with, so this notebook is a major point in being able to properly predict our customers' behaviour.__"
   ]
  },
  {
   "cell_type": "code",
   "execution_count": 1,
   "id": "0c90cc9c",
   "metadata": {},
   "outputs": [],
   "source": [
    "import pandas as pd\n",
    "cleaned_churn_df = pd.read_excel(\"../data/cleaned/E Commerce Dataset (cleaned).xlsx\")"
   ]
  },
  {
   "cell_type": "code",
   "execution_count": 2,
   "id": "b5813b3c",
   "metadata": {},
   "outputs": [
    {
     "data": {
      "text/html": [
       "<div>\n",
       "<style scoped>\n",
       "    .dataframe tbody tr th:only-of-type {\n",
       "        vertical-align: middle;\n",
       "    }\n",
       "\n",
       "    .dataframe tbody tr th {\n",
       "        vertical-align: top;\n",
       "    }\n",
       "\n",
       "    .dataframe thead th {\n",
       "        text-align: right;\n",
       "    }\n",
       "</style>\n",
       "<table border=\"1\" class=\"dataframe\">\n",
       "  <thead>\n",
       "    <tr style=\"text-align: right;\">\n",
       "      <th></th>\n",
       "      <th>CustomerID</th>\n",
       "      <th>Churn</th>\n",
       "      <th>Tenure(months)</th>\n",
       "      <th>PreferredLoginDevice</th>\n",
       "      <th>CityTier</th>\n",
       "      <th>WarehouseToHome</th>\n",
       "      <th>PreferredPaymentMode</th>\n",
       "      <th>Gender</th>\n",
       "      <th>HourSpendOnApp</th>\n",
       "      <th>NumberOfDeviceRegistered</th>\n",
       "      <th>PreferredOrderCat</th>\n",
       "      <th>SatisfactionScore</th>\n",
       "      <th>MaritalStatus</th>\n",
       "      <th>NumberOfAddress</th>\n",
       "      <th>Complain</th>\n",
       "      <th>OrderAmountHikeFromlastYear(%)</th>\n",
       "      <th>CouponUsed</th>\n",
       "      <th>OrderCount</th>\n",
       "      <th>DaySinceLastOrder</th>\n",
       "      <th>CashbackAmount</th>\n",
       "    </tr>\n",
       "  </thead>\n",
       "  <tbody>\n",
       "    <tr>\n",
       "      <th>0</th>\n",
       "      <td>50001</td>\n",
       "      <td>1</td>\n",
       "      <td>4</td>\n",
       "      <td>Phone</td>\n",
       "      <td>3</td>\n",
       "      <td>6</td>\n",
       "      <td>Debit Card</td>\n",
       "      <td>Female</td>\n",
       "      <td>3</td>\n",
       "      <td>3</td>\n",
       "      <td>Laptop &amp; Accessory</td>\n",
       "      <td>2</td>\n",
       "      <td>Single</td>\n",
       "      <td>9</td>\n",
       "      <td>1</td>\n",
       "      <td>11</td>\n",
       "      <td>1</td>\n",
       "      <td>1</td>\n",
       "      <td>5</td>\n",
       "      <td>159.93</td>\n",
       "    </tr>\n",
       "    <tr>\n",
       "      <th>1</th>\n",
       "      <td>50002</td>\n",
       "      <td>1</td>\n",
       "      <td>9</td>\n",
       "      <td>Phone</td>\n",
       "      <td>1</td>\n",
       "      <td>8</td>\n",
       "      <td>Unified Payments Interface</td>\n",
       "      <td>Male</td>\n",
       "      <td>3</td>\n",
       "      <td>4</td>\n",
       "      <td>Mobile Phone</td>\n",
       "      <td>3</td>\n",
       "      <td>Single</td>\n",
       "      <td>7</td>\n",
       "      <td>1</td>\n",
       "      <td>15</td>\n",
       "      <td>0</td>\n",
       "      <td>1</td>\n",
       "      <td>0</td>\n",
       "      <td>120.90</td>\n",
       "    </tr>\n",
       "    <tr>\n",
       "      <th>2</th>\n",
       "      <td>50003</td>\n",
       "      <td>1</td>\n",
       "      <td>9</td>\n",
       "      <td>Phone</td>\n",
       "      <td>1</td>\n",
       "      <td>30</td>\n",
       "      <td>Debit Card</td>\n",
       "      <td>Male</td>\n",
       "      <td>2</td>\n",
       "      <td>4</td>\n",
       "      <td>Mobile Phone</td>\n",
       "      <td>3</td>\n",
       "      <td>Single</td>\n",
       "      <td>6</td>\n",
       "      <td>1</td>\n",
       "      <td>14</td>\n",
       "      <td>0</td>\n",
       "      <td>1</td>\n",
       "      <td>3</td>\n",
       "      <td>120.28</td>\n",
       "    </tr>\n",
       "    <tr>\n",
       "      <th>3</th>\n",
       "      <td>50004</td>\n",
       "      <td>1</td>\n",
       "      <td>0</td>\n",
       "      <td>Phone</td>\n",
       "      <td>3</td>\n",
       "      <td>15</td>\n",
       "      <td>Debit Card</td>\n",
       "      <td>Male</td>\n",
       "      <td>2</td>\n",
       "      <td>4</td>\n",
       "      <td>Laptop &amp; Accessory</td>\n",
       "      <td>5</td>\n",
       "      <td>Single</td>\n",
       "      <td>8</td>\n",
       "      <td>0</td>\n",
       "      <td>23</td>\n",
       "      <td>0</td>\n",
       "      <td>1</td>\n",
       "      <td>3</td>\n",
       "      <td>134.07</td>\n",
       "    </tr>\n",
       "    <tr>\n",
       "      <th>4</th>\n",
       "      <td>50005</td>\n",
       "      <td>1</td>\n",
       "      <td>0</td>\n",
       "      <td>Phone</td>\n",
       "      <td>1</td>\n",
       "      <td>12</td>\n",
       "      <td>Credit Card</td>\n",
       "      <td>Male</td>\n",
       "      <td>0</td>\n",
       "      <td>3</td>\n",
       "      <td>Mobile Phone</td>\n",
       "      <td>5</td>\n",
       "      <td>Single</td>\n",
       "      <td>3</td>\n",
       "      <td>0</td>\n",
       "      <td>11</td>\n",
       "      <td>1</td>\n",
       "      <td>1</td>\n",
       "      <td>3</td>\n",
       "      <td>129.60</td>\n",
       "    </tr>\n",
       "  </tbody>\n",
       "</table>\n",
       "</div>"
      ],
      "text/plain": [
       "   CustomerID  Churn  Tenure(months) PreferredLoginDevice  CityTier  \\\n",
       "0       50001      1               4                Phone         3   \n",
       "1       50002      1               9                Phone         1   \n",
       "2       50003      1               9                Phone         1   \n",
       "3       50004      1               0                Phone         3   \n",
       "4       50005      1               0                Phone         1   \n",
       "\n",
       "   WarehouseToHome        PreferredPaymentMode  Gender  HourSpendOnApp  \\\n",
       "0                6                  Debit Card  Female               3   \n",
       "1                8  Unified Payments Interface    Male               3   \n",
       "2               30                  Debit Card    Male               2   \n",
       "3               15                  Debit Card    Male               2   \n",
       "4               12                 Credit Card    Male               0   \n",
       "\n",
       "   NumberOfDeviceRegistered   PreferredOrderCat  SatisfactionScore  \\\n",
       "0                         3  Laptop & Accessory                  2   \n",
       "1                         4        Mobile Phone                  3   \n",
       "2                         4        Mobile Phone                  3   \n",
       "3                         4  Laptop & Accessory                  5   \n",
       "4                         3        Mobile Phone                  5   \n",
       "\n",
       "  MaritalStatus  NumberOfAddress  Complain  OrderAmountHikeFromlastYear(%)  \\\n",
       "0        Single                9         1                              11   \n",
       "1        Single                7         1                              15   \n",
       "2        Single                6         1                              14   \n",
       "3        Single                8         0                              23   \n",
       "4        Single                3         0                              11   \n",
       "\n",
       "   CouponUsed  OrderCount  DaySinceLastOrder  CashbackAmount  \n",
       "0           1           1                  5          159.93  \n",
       "1           0           1                  0          120.90  \n",
       "2           0           1                  3          120.28  \n",
       "3           0           1                  3          134.07  \n",
       "4           1           1                  3          129.60  "
      ]
     },
     "execution_count": 2,
     "metadata": {},
     "output_type": "execute_result"
    }
   ],
   "source": [
    "df = cleaned_churn_df.copy()\n",
    "df.head()"
   ]
  },
  {
   "cell_type": "code",
   "execution_count": 3,
   "id": "d7594e86",
   "metadata": {},
   "outputs": [],
   "source": [
    "# We don't need the customer ID in training our model\n"
   ]
  },
  {
   "cell_type": "markdown",
   "id": "b038296f",
   "metadata": {},
   "source": [
    "## Encoding Categorical Variables"
   ]
  },
  {
   "cell_type": "code",
   "execution_count": 4,
   "id": "0f15c741",
   "metadata": {},
   "outputs": [],
   "source": [
    "from sklearn.preprocessing import OneHotEncoder, OrdinalEncoder"
   ]
  },
  {
   "cell_type": "markdown",
   "id": "6dbce031",
   "metadata": {},
   "source": [
    "<p>We will use different encoding types depending on the nature of our features</p>\n",
    "\n",
    "Label Encoding for Binary value features <br/>\n",
    "One-Hot encoding for when we have > 2 categories with no order or hierarchy <br/>\n",
    "Ordinal encoding when we have more than 2 ordinal categories <br/>\n",
    "\n",
    "__We will be making use of sklearn pipeline so we don't have to manually do this everytime new data comes in.__"
   ]
  },
  {
   "cell_type": "code",
   "execution_count": 5,
   "id": "be86d660",
   "metadata": {},
   "outputs": [],
   "source": [
    "from sklearn.pipeline import Pipeline\n",
    "from sklearn.compose import ColumnTransformer"
   ]
  },
  {
   "cell_type": "markdown",
   "id": "8b5d7eb5",
   "metadata": {},
   "source": [
    "We'll group our columns into different types to specify how we will encode them "
   ]
  },
  {
   "cell_type": "code",
   "execution_count": 6,
   "metadata": {},
   "outputs": [],
   "source": [
    "binary_value_columns = [\"PreferredLoginDevice\", \"Gender\", \"Complain\"]   # Columns with just 2 categories\n",
    "\n",
    "ordinal_value_columns = [\"CityTier\", \"SatisfactionScore\"]    # Columns having a hierarchy tier where one is higher than the others\n",
    "\n",
    "nominal_value_columns = [\"PreferredPaymentMode\", \"PreferredOrderCat\", \"MaritalStatus\"]   # Column values more than 2 and no meaningful order\n",
    "\n",
    "\n",
    "numeric_columns = [\n",
    "    \"Tenure(months)\", \"WarehouseToHome\", \"HourSpendOnApp\",\n",
    "    \"NumberOfDeviceRegistered\", \"NumberOfAddress\",\n",
    "    \"OrderAmountHikeFromlastYear(%)\", \"CouponUsed\",\n",
    "    \"OrderCount\", \"DaySinceLastOrder\", \"CashbackAmount\"\n",
    "] \n",
    "\n",
    "# Churn and CustomerID not included\n"
   ]
  },
  {
   "cell_type": "code",
   "execution_count": 7,
   "id": "3b86b031",
   "metadata": {},
   "outputs": [],
   "source": [
    "binary_encoder = OrdinalEncoder()\n",
    "ordinal_encoder = OrdinalEncoder(categories=[\n",
    "    [1, 2, 3],  # for city tier\n",
    "    [1, 2, 3, 4, 5]   # for satisfaction score \n",
    ",])\n",
    "nominal_encoder = OneHotEncoder(drop=\"first\", sparse_output=False)"
   ]
  },
  {
   "cell_type": "markdown",
   "id": "3e297a8f",
   "metadata": {},
   "source": [
    "Label encoder won't work in a model column transformer because it works on one column at once and not multiple at a time, it usually used for encoding target variables.<br/>\n",
    "We use ordinal encoder because it works on 2D arrays and it does not assign an order on its own unless we specify. with binary categories, it just maps valiues with 0 and 1"
   ]
  },
  {
   "cell_type": "markdown",
   "id": "f29043e0",
   "metadata": {},
   "source": [
    "We will also scale our numerical columns using `StandardScaler` to apply it to our column transformer as well"
   ]
  },
  {
   "cell_type": "code",
   "execution_count": 8,
   "id": "a0c7196c",
   "metadata": {},
   "outputs": [],
   "source": [
    "from sklearn.preprocessing import StandardScaler\n",
    "\n",
    "numerical_scaler = StandardScaler()\n",
    "\n"
   ]
  },
  {
   "cell_type": "markdown",
   "id": "5b2e9887",
   "metadata": {},
   "source": [
    "We will create the `ColumnTransformer` object and get it ready for the next steps to be applied on it"
   ]
  },
  {
   "cell_type": "code",
   "execution_count": 9,
   "id": "335711b9",
   "metadata": {},
   "outputs": [],
   "source": [
    "categorical_encodings = ColumnTransformer(transformers=[    # transformer for  columns\n",
    "    (\"binary\", binary_encoder, binary_value_columns),   # The binary_encoder(OrdinalEncoder) transformer is named 'binary' and will apply to the binary_value_columns\n",
    "    \n",
    "    (\"ordinal\", ordinal_encoder, ordinal_value_columns),\n",
    "\n",
    "    (\"nominal\", nominal_encoder, nominal_value_columns),\n",
    "\n",
    "    (\"numeric_scaler\", numerical_scaler, numeric_columns),      # Scaling numerical columns\n",
    "], remainder=\"passthrough\")         # any column not specified in the transformer is skipped\n"
   ]
  },
  {
   "cell_type": "markdown",
   "id": "384613ed",
   "metadata": {},
   "source": [
    "Now we have defined the encoding operations to apply to our columns, we will create our model pipeline and include the transforations/encodings"
   ]
  },
  {
   "cell_type": "code",
   "execution_count": 10,
   "id": "8eb98891",
   "metadata": {},
   "outputs": [],
   "source": [
    "model_pipeline = Pipeline(steps=[\n",
    "    (\"categorical_encoding\", categorical_encodings)\n",
    "])"
   ]
  },
  {
   "cell_type": "markdown",
   "id": "00df0034",
   "metadata": {},
   "source": [
    "### Preparing for model training and evaluation"
   ]
  },
  {
   "cell_type": "code",
   "execution_count": 11,
   "id": "fca73d3d",
   "metadata": {},
   "outputs": [],
   "source": [
    "\n",
    "from sklearn.model_selection import train_test_split\n",
    "\n",
    "X = df.drop(columns=[\"CustomerID\", \"Churn\"])\n",
    "y = df[\"Churn\"]\n",
    "\n",
    "\n",
    "X_train, X_test, y_train, y_test = train_test_split(\n",
    "    X, y, test_size=0.2, random_state=42, stratify=y    # startify to handle categorical class imbalance\n",
    ")\n",
    "\n",
    "\n"
   ]
  },
  {
   "cell_type": "code",
   "execution_count": 12,
   "id": "dfe10fcb",
   "metadata": {},
   "outputs": [],
   "source": [
    "features_encoded_train = model_pipeline.fit_transform(X_train)\n",
    "features_encoded_test = model_pipeline.transform(X_test)"
   ]
  },
  {
   "cell_type": "code",
   "execution_count": null,
   "id": "52cd40fa",
   "metadata": {},
   "outputs": [
    {
     "data": {
      "text/plain": [
       "PreferredLoginDevice                               0\n",
       "Gender                                             0\n",
       "Complain                                           0\n",
       "CityTier                                           0\n",
       "SatisfactionScore                                  0\n",
       "PreferredPaymentMode_Credit Card                   0\n",
       "PreferredPaymentMode_Debit Card                    0\n",
       "PreferredPaymentMode_E wallet                      0\n",
       "PreferredPaymentMode_Unified Payments Interface    0\n",
       "PreferredOrderCat_Grocery                          0\n",
       "PreferredOrderCat_Laptop & Accessory               0\n",
       "PreferredOrderCat_Mobile Phone                     0\n",
       "PreferredOrderCat_Others                           0\n",
       "MaritalStatus_Married                              0\n",
       "MaritalStatus_Single                               0\n",
       "Tenure(months)                                     0\n",
       "WarehouseToHome                                    0\n",
       "HourSpendOnApp                                     0\n",
       "NumberOfDeviceRegistered                           0\n",
       "NumberOfAddress                                    0\n",
       "OrderAmountHikeFromlastYear(%)                     0\n",
       "CouponUsed                                         0\n",
       "OrderCount                                         0\n",
       "DaySinceLastOrder                                  0\n",
       "CashbackAmount                                     0\n",
       "dtype: int64"
      ]
     },
     "execution_count": 13,
     "metadata": {},
     "output_type": "execute_result"
    }
   ],
   "source": [
    "# We have to get the fitted encoder from the pipeline to use its column names\n",
    "fitted_nominal_encoder = model_pipeline.named_steps[\"categorical_encoding\"].named_transformers_[\"nominal\"]\n",
    "\n",
    "# A tuple containing all the column names of all our features after encoding\n",
    "encoded_feature_names = (\n",
    "    binary_value_columns +\n",
    "    ordinal_value_columns +\n",
    "    list(fitted_nominal_encoder.get_feature_names_out(nominal_value_columns)) +\n",
    "    [col for col in X_train.columns if col not in binary_value_columns + ordinal_value_columns + nominal_value_columns]\n",
    ")\n",
    "\n",
    "\n",
    "X_train_encoded = pd.DataFrame(features_encoded_train, columns=encoded_feature_names, index=X_train.index)\n",
    "X_test_encoded = pd.DataFrame(features_encoded_test, columns=encoded_feature_names, index=X_test.index)\n",
    "\n",
    "\n",
    "X_train_encoded.isna().sum()\n"
   ]
  },
  {
   "cell_type": "markdown",
   "id": "3523dbb5",
   "metadata": {},
   "source": [
    "We don't encode y_train and y_test because they are already numeric"
   ]
  },
  {
   "cell_type": "markdown",
   "id": "7dbf5e1d",
   "metadata": {},
   "source": [
    "We will now save our ready-to-model datasets for our model evaluation notebook <br/> We have to create training and testing datasets that our models will use."
   ]
  },
  {
   "cell_type": "code",
   "execution_count": 14,
   "id": "72e87055",
   "metadata": {},
   "outputs": [],
   "source": [
    "#  We reset index to avoid rows being missaligned when we concatenate\n",
    "train_df = pd.concat([X_train_encoded.reset_index(drop=True),\n",
    "                      y_train.reset_index(drop=True)], axis=1)\n",
    "\n",
    "test_df = pd.concat([X_test_encoded.reset_index(drop=True),\n",
    "                     y_test.reset_index(drop=True)], axis=1)\n",
    "\n",
    "\n",
    "# Adding our target columns back for each dataset\n",
    "train_df[\"Churn\"] = y_train.reset_index(drop=True)\n",
    "test_df[\"Churn\"] = y_test.reset_index(drop=True)\n",
    "\n",
    "\n",
    "train_df.to_csv(\"../data/processed/train.csv\", index=False)\n",
    "test_df.to_csv(\"../data/processed/test.csv\", index=False)\n"
   ]
  },
  {
   "cell_type": "code",
   "execution_count": null,
   "id": "068595ff",
   "metadata": {},
   "outputs": [],
   "source": []
  },
  {
   "cell_type": "code",
   "execution_count": null,
   "id": "87d3e6e0",
   "metadata": {},
   "outputs": [],
   "source": []
  }
 ],
 "metadata": {
  "kernelspec": {
   "display_name": "base",
   "language": "python",
   "name": "python3"
  },
  "language_info": {
   "codemirror_mode": {
    "name": "ipython",
    "version": 3
   },
   "file_extension": ".py",
   "mimetype": "text/x-python",
   "name": "python",
   "nbconvert_exporter": "python",
   "pygments_lexer": "ipython3",
   "version": "3.12.7"
  }
 },
 "nbformat": 4,
 "nbformat_minor": 5
}
