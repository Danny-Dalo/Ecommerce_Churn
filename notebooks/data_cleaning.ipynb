{
 "cells": [
  {
   "cell_type": "markdown",
   "id": "f2d8cc2d",
   "metadata": {},
   "source": [
    "# Data  Cleaning Notebook\n",
    "__This notebook handles all preprocessing steps required to prepare our churn dataset for analysis and modeling.__\n",
    "\n",
    "**Objectives:**\n",
    "- Handle data bugs and ambiguity\n",
    "- Clean and standardize categorical values\n",
    "- Handle missing or inconsistent data\n",
    "- Rename poorly labeled columns for clarity\n",
    "- Detect and fix duplicates or outliers\n",
    "- Prepare data for encoding and scaling"
   ]
  },
  {
   "cell_type": "code",
   "execution_count": 107,
   "id": "67acfef9",
   "metadata": {},
   "outputs": [],
   "source": [
    "import pandas as pd\n",
    "import numpy as np\n",
    "import pickle"
   ]
  },
  {
   "cell_type": "markdown",
   "id": "66363bc0",
   "metadata": {},
   "source": [
    "__creating a copy of the original dataset__"
   ]
  },
  {
   "cell_type": "code",
   "execution_count": 108,
   "id": "56664a25",
   "metadata": {},
   "outputs": [],
   "source": [
    "churn_df = pd.read_excel(\"../data/raw/E Commerce Dataset.xlsx\", sheet_name=\"E Comm\")\n",
    "churn_df_copy = churn_df.copy()"
   ]
  },
  {
   "cell_type": "code",
   "execution_count": 109,
   "id": "b79b4bd4",
   "metadata": {},
   "outputs": [
    {
     "data": {
      "text/html": [
       "<div>\n",
       "<style scoped>\n",
       "    .dataframe tbody tr th:only-of-type {\n",
       "        vertical-align: middle;\n",
       "    }\n",
       "\n",
       "    .dataframe tbody tr th {\n",
       "        vertical-align: top;\n",
       "    }\n",
       "\n",
       "    .dataframe thead th {\n",
       "        text-align: right;\n",
       "    }\n",
       "</style>\n",
       "<table border=\"1\" class=\"dataframe\">\n",
       "  <thead>\n",
       "    <tr style=\"text-align: right;\">\n",
       "      <th></th>\n",
       "      <th>CustomerID</th>\n",
       "      <th>Churn</th>\n",
       "      <th>Tenure</th>\n",
       "      <th>PreferredLoginDevice</th>\n",
       "      <th>CityTier</th>\n",
       "      <th>WarehouseToHome</th>\n",
       "      <th>PreferredPaymentMode</th>\n",
       "      <th>Gender</th>\n",
       "      <th>HourSpendOnApp</th>\n",
       "      <th>NumberOfDeviceRegistered</th>\n",
       "      <th>PreferedOrderCat</th>\n",
       "      <th>SatisfactionScore</th>\n",
       "      <th>MaritalStatus</th>\n",
       "      <th>NumberOfAddress</th>\n",
       "      <th>Complain</th>\n",
       "      <th>OrderAmountHikeFromlastYear</th>\n",
       "      <th>CouponUsed</th>\n",
       "      <th>OrderCount</th>\n",
       "      <th>DaySinceLastOrder</th>\n",
       "      <th>CashbackAmount</th>\n",
       "    </tr>\n",
       "  </thead>\n",
       "  <tbody>\n",
       "    <tr>\n",
       "      <th>0</th>\n",
       "      <td>50001</td>\n",
       "      <td>1</td>\n",
       "      <td>4.0</td>\n",
       "      <td>Mobile Phone</td>\n",
       "      <td>3</td>\n",
       "      <td>6.0</td>\n",
       "      <td>Debit Card</td>\n",
       "      <td>Female</td>\n",
       "      <td>3.0</td>\n",
       "      <td>3</td>\n",
       "      <td>Laptop &amp; Accessory</td>\n",
       "      <td>2</td>\n",
       "      <td>Single</td>\n",
       "      <td>9</td>\n",
       "      <td>1</td>\n",
       "      <td>11.0</td>\n",
       "      <td>1.0</td>\n",
       "      <td>1.0</td>\n",
       "      <td>5.0</td>\n",
       "      <td>159.93</td>\n",
       "    </tr>\n",
       "    <tr>\n",
       "      <th>1</th>\n",
       "      <td>50002</td>\n",
       "      <td>1</td>\n",
       "      <td>NaN</td>\n",
       "      <td>Phone</td>\n",
       "      <td>1</td>\n",
       "      <td>8.0</td>\n",
       "      <td>UPI</td>\n",
       "      <td>Male</td>\n",
       "      <td>3.0</td>\n",
       "      <td>4</td>\n",
       "      <td>Mobile</td>\n",
       "      <td>3</td>\n",
       "      <td>Single</td>\n",
       "      <td>7</td>\n",
       "      <td>1</td>\n",
       "      <td>15.0</td>\n",
       "      <td>0.0</td>\n",
       "      <td>1.0</td>\n",
       "      <td>0.0</td>\n",
       "      <td>120.90</td>\n",
       "    </tr>\n",
       "    <tr>\n",
       "      <th>2</th>\n",
       "      <td>50003</td>\n",
       "      <td>1</td>\n",
       "      <td>NaN</td>\n",
       "      <td>Phone</td>\n",
       "      <td>1</td>\n",
       "      <td>30.0</td>\n",
       "      <td>Debit Card</td>\n",
       "      <td>Male</td>\n",
       "      <td>2.0</td>\n",
       "      <td>4</td>\n",
       "      <td>Mobile</td>\n",
       "      <td>3</td>\n",
       "      <td>Single</td>\n",
       "      <td>6</td>\n",
       "      <td>1</td>\n",
       "      <td>14.0</td>\n",
       "      <td>0.0</td>\n",
       "      <td>1.0</td>\n",
       "      <td>3.0</td>\n",
       "      <td>120.28</td>\n",
       "    </tr>\n",
       "    <tr>\n",
       "      <th>3</th>\n",
       "      <td>50004</td>\n",
       "      <td>1</td>\n",
       "      <td>0.0</td>\n",
       "      <td>Phone</td>\n",
       "      <td>3</td>\n",
       "      <td>15.0</td>\n",
       "      <td>Debit Card</td>\n",
       "      <td>Male</td>\n",
       "      <td>2.0</td>\n",
       "      <td>4</td>\n",
       "      <td>Laptop &amp; Accessory</td>\n",
       "      <td>5</td>\n",
       "      <td>Single</td>\n",
       "      <td>8</td>\n",
       "      <td>0</td>\n",
       "      <td>23.0</td>\n",
       "      <td>0.0</td>\n",
       "      <td>1.0</td>\n",
       "      <td>3.0</td>\n",
       "      <td>134.07</td>\n",
       "    </tr>\n",
       "    <tr>\n",
       "      <th>4</th>\n",
       "      <td>50005</td>\n",
       "      <td>1</td>\n",
       "      <td>0.0</td>\n",
       "      <td>Phone</td>\n",
       "      <td>1</td>\n",
       "      <td>12.0</td>\n",
       "      <td>CC</td>\n",
       "      <td>Male</td>\n",
       "      <td>NaN</td>\n",
       "      <td>3</td>\n",
       "      <td>Mobile</td>\n",
       "      <td>5</td>\n",
       "      <td>Single</td>\n",
       "      <td>3</td>\n",
       "      <td>0</td>\n",
       "      <td>11.0</td>\n",
       "      <td>1.0</td>\n",
       "      <td>1.0</td>\n",
       "      <td>3.0</td>\n",
       "      <td>129.60</td>\n",
       "    </tr>\n",
       "  </tbody>\n",
       "</table>\n",
       "</div>"
      ],
      "text/plain": [
       "   CustomerID  Churn  Tenure PreferredLoginDevice  CityTier  WarehouseToHome  \\\n",
       "0       50001      1     4.0         Mobile Phone         3              6.0   \n",
       "1       50002      1     NaN                Phone         1              8.0   \n",
       "2       50003      1     NaN                Phone         1             30.0   \n",
       "3       50004      1     0.0                Phone         3             15.0   \n",
       "4       50005      1     0.0                Phone         1             12.0   \n",
       "\n",
       "  PreferredPaymentMode  Gender  HourSpendOnApp  NumberOfDeviceRegistered  \\\n",
       "0           Debit Card  Female             3.0                         3   \n",
       "1                  UPI    Male             3.0                         4   \n",
       "2           Debit Card    Male             2.0                         4   \n",
       "3           Debit Card    Male             2.0                         4   \n",
       "4                   CC    Male             NaN                         3   \n",
       "\n",
       "     PreferedOrderCat  SatisfactionScore MaritalStatus  NumberOfAddress  \\\n",
       "0  Laptop & Accessory                  2        Single                9   \n",
       "1              Mobile                  3        Single                7   \n",
       "2              Mobile                  3        Single                6   \n",
       "3  Laptop & Accessory                  5        Single                8   \n",
       "4              Mobile                  5        Single                3   \n",
       "\n",
       "   Complain  OrderAmountHikeFromlastYear  CouponUsed  OrderCount  \\\n",
       "0         1                         11.0         1.0         1.0   \n",
       "1         1                         15.0         0.0         1.0   \n",
       "2         1                         14.0         0.0         1.0   \n",
       "3         0                         23.0         0.0         1.0   \n",
       "4         0                         11.0         1.0         1.0   \n",
       "\n",
       "   DaySinceLastOrder  CashbackAmount  \n",
       "0                5.0          159.93  \n",
       "1                0.0          120.90  \n",
       "2                3.0          120.28  \n",
       "3                3.0          134.07  \n",
       "4                3.0          129.60  "
      ]
     },
     "execution_count": 109,
     "metadata": {},
     "output_type": "execute_result"
    }
   ],
   "source": [
    "churn_df_copy.head()"
   ]
  },
  {
   "cell_type": "code",
   "execution_count": 110,
   "id": "767325da",
   "metadata": {},
   "outputs": [
    {
     "name": "stdout",
     "output_type": "stream",
     "text": [
      "<class 'pandas.core.frame.DataFrame'>\n",
      "RangeIndex: 5630 entries, 0 to 5629\n",
      "Data columns (total 20 columns):\n",
      " #   Column                       Non-Null Count  Dtype  \n",
      "---  ------                       --------------  -----  \n",
      " 0   CustomerID                   5630 non-null   int64  \n",
      " 1   Churn                        5630 non-null   int64  \n",
      " 2   Tenure                       5366 non-null   float64\n",
      " 3   PreferredLoginDevice         5630 non-null   object \n",
      " 4   CityTier                     5630 non-null   int64  \n",
      " 5   WarehouseToHome              5379 non-null   float64\n",
      " 6   PreferredPaymentMode         5630 non-null   object \n",
      " 7   Gender                       5630 non-null   object \n",
      " 8   HourSpendOnApp               5375 non-null   float64\n",
      " 9   NumberOfDeviceRegistered     5630 non-null   int64  \n",
      " 10  PreferedOrderCat             5630 non-null   object \n",
      " 11  SatisfactionScore            5630 non-null   int64  \n",
      " 12  MaritalStatus                5630 non-null   object \n",
      " 13  NumberOfAddress              5630 non-null   int64  \n",
      " 14  Complain                     5630 non-null   int64  \n",
      " 15  OrderAmountHikeFromlastYear  5365 non-null   float64\n",
      " 16  CouponUsed                   5374 non-null   float64\n",
      " 17  OrderCount                   5372 non-null   float64\n",
      " 18  DaySinceLastOrder            5323 non-null   float64\n",
      " 19  CashbackAmount               5630 non-null   float64\n",
      "dtypes: float64(8), int64(7), object(5)\n",
      "memory usage: 879.8+ KB\n"
     ]
    }
   ],
   "source": [
    "churn_df_copy.info()"
   ]
  },
  {
   "cell_type": "markdown",
   "id": "dfe9e5fa",
   "metadata": {},
   "source": [
    "### Renaming Columns\n",
    "We want to rename a column while still keepimg the same naming convention"
   ]
  },
  {
   "cell_type": "code",
   "execution_count": 111,
   "id": "46e7b314",
   "metadata": {},
   "outputs": [],
   "source": [
    "churn_df_copy.rename(columns={\n",
    "    \"PreferedOrderCat\" : \"PreferredOrderCat\"\n",
    "}, inplace=True)\n",
    "# churn_df_copy.head()"
   ]
  },
  {
   "cell_type": "markdown",
   "id": "6e62128b",
   "metadata": {},
   "source": [
    "<hr/>"
   ]
  },
  {
   "cell_type": "markdown",
   "id": "cf4c9b75",
   "metadata": {},
   "source": [
    "### Standardizing Value Naming in Categorical Columns"
   ]
  },
  {
   "cell_type": "markdown",
   "id": "27c945dd",
   "metadata": {},
   "source": [
    "__importing variables from our exploratory_analysis notebook__"
   ]
  },
  {
   "cell_type": "code",
   "execution_count": 112,
   "id": "e079fc4d",
   "metadata": {},
   "outputs": [
    {
     "name": "stdout",
     "output_type": "stream",
     "text": [
      "Categorical columns : ['PreferredLoginDevice', 'PreferredPaymentMode', 'Gender', 'PreferedOrderCat', 'MaritalStatus']\n",
      "Numerical columns : ['Tenure', 'CityTier', 'WarehouseToHome', 'HourSpendOnApp', 'NumberOfDeviceRegistered', 'SatisfactionScore', 'NumberOfAddress', 'Complain', 'OrderAmountHikeFromlastYear', 'CouponUsed', 'OrderCount', 'DaySinceLastOrder', 'CashbackAmount']\n"
     ]
    }
   ],
   "source": [
    "\n",
    "with open(\"eda_variables.pkl\", \"rb\") as var:\n",
    "    variables = pickle.load(var)\n",
    "\n",
    "cat_cols = variables[\"cat_cols\"]\n",
    "num_cols = variables[\"num_cols\"]\n",
    "\n",
    "print(f\"Categorical columns : {cat_cols}\")\n",
    "print(f\"Numerical columns : {num_cols}\")"
   ]
  },
  {
   "cell_type": "markdown",
   "id": "9456790f",
   "metadata": {},
   "source": [
    "We can rename column categories as one category to have a standard naming type. Cases like these may require extra upstream clearification"
   ]
  },
  {
   "cell_type": "code",
   "execution_count": 113,
   "id": "c3093465",
   "metadata": {},
   "outputs": [],
   "source": [
    "# Preferred Login Device\n",
    "churn_df_copy = churn_df_copy.replace({\n",
    "    'PreferredLoginDevice': {'Mobile Phone': 'Phone'}\n",
    "})\n",
    "\n",
    "# Preffered Payment Mode\n",
    "churn_df_copy = churn_df_copy.replace({\n",
    "    \"PreferredPaymentMode\" : {\n",
    "        \"CC\" : \"Credit Card\",\n",
    "        \"COD\" : \"Cash on Delivery\",\n",
    "        \"UPI\" : \"Unified Payments Interface\"\n",
    "        }\n",
    "})\n",
    "\n",
    "# Preferred Order Category\n",
    "churn_df_copy = churn_df_copy.replace({\n",
    "    'PreferredOrderCat': {'Mobile': 'Mobile Phone'}\n",
    "})\n",
    "\n",
    "# churn_df_copy[\"PreferredPaymentMode\"].value_counts()"
   ]
  },
  {
   "cell_type": "markdown",
   "id": "fd81e264",
   "metadata": {},
   "source": [
    "<hr/>"
   ]
  },
  {
   "cell_type": "markdown",
   "id": "2e35086f",
   "metadata": {},
   "source": [
    "## Handling Missing Values\n",
    "__Now, we will inspect the dataset for missing values and decide how best to tackle it__"
   ]
  },
  {
   "cell_type": "code",
   "execution_count": 114,
   "id": "3e1ac81a",
   "metadata": {},
   "outputs": [
    {
     "data": {
      "text/html": [
       "<div>\n",
       "<style scoped>\n",
       "    .dataframe tbody tr th:only-of-type {\n",
       "        vertical-align: middle;\n",
       "    }\n",
       "\n",
       "    .dataframe tbody tr th {\n",
       "        vertical-align: top;\n",
       "    }\n",
       "\n",
       "    .dataframe thead th {\n",
       "        text-align: right;\n",
       "    }\n",
       "</style>\n",
       "<table border=\"1\" class=\"dataframe\">\n",
       "  <thead>\n",
       "    <tr style=\"text-align: right;\">\n",
       "      <th></th>\n",
       "      <th>CustomerID</th>\n",
       "      <th>Churn</th>\n",
       "      <th>Tenure</th>\n",
       "      <th>PreferredLoginDevice</th>\n",
       "      <th>CityTier</th>\n",
       "      <th>WarehouseToHome</th>\n",
       "      <th>PreferredPaymentMode</th>\n",
       "      <th>Gender</th>\n",
       "      <th>HourSpendOnApp</th>\n",
       "      <th>NumberOfDeviceRegistered</th>\n",
       "      <th>PreferredOrderCat</th>\n",
       "      <th>SatisfactionScore</th>\n",
       "      <th>MaritalStatus</th>\n",
       "      <th>NumberOfAddress</th>\n",
       "      <th>Complain</th>\n",
       "      <th>OrderAmountHikeFromlastYear</th>\n",
       "      <th>CouponUsed</th>\n",
       "      <th>OrderCount</th>\n",
       "      <th>DaySinceLastOrder</th>\n",
       "      <th>CashbackAmount</th>\n",
       "    </tr>\n",
       "  </thead>\n",
       "  <tbody>\n",
       "    <tr>\n",
       "      <th>665</th>\n",
       "      <td>50666</td>\n",
       "      <td>0</td>\n",
       "      <td>6.0</td>\n",
       "      <td>Phone</td>\n",
       "      <td>1</td>\n",
       "      <td>11.0</td>\n",
       "      <td>Debit Card</td>\n",
       "      <td>Male</td>\n",
       "      <td>2.0</td>\n",
       "      <td>4</td>\n",
       "      <td>Fashion</td>\n",
       "      <td>2</td>\n",
       "      <td>Married</td>\n",
       "      <td>5</td>\n",
       "      <td>0</td>\n",
       "      <td>15.0</td>\n",
       "      <td>0.0</td>\n",
       "      <td>1.0</td>\n",
       "      <td>2.0</td>\n",
       "      <td>171.19</td>\n",
       "    </tr>\n",
       "    <tr>\n",
       "      <th>3092</th>\n",
       "      <td>53093</td>\n",
       "      <td>0</td>\n",
       "      <td>4.0</td>\n",
       "      <td>Phone</td>\n",
       "      <td>3</td>\n",
       "      <td>19.0</td>\n",
       "      <td>Cash on Delivery</td>\n",
       "      <td>Female</td>\n",
       "      <td>3.0</td>\n",
       "      <td>4</td>\n",
       "      <td>Laptop &amp; Accessory</td>\n",
       "      <td>3</td>\n",
       "      <td>Single</td>\n",
       "      <td>2</td>\n",
       "      <td>0</td>\n",
       "      <td>12.0</td>\n",
       "      <td>4.0</td>\n",
       "      <td>5.0</td>\n",
       "      <td>5.0</td>\n",
       "      <td>190.77</td>\n",
       "    </tr>\n",
       "    <tr>\n",
       "      <th>5134</th>\n",
       "      <td>55135</td>\n",
       "      <td>0</td>\n",
       "      <td>1.0</td>\n",
       "      <td>Computer</td>\n",
       "      <td>3</td>\n",
       "      <td>9.0</td>\n",
       "      <td>Debit Card</td>\n",
       "      <td>Male</td>\n",
       "      <td>3.0</td>\n",
       "      <td>6</td>\n",
       "      <td>Laptop &amp; Accessory</td>\n",
       "      <td>1</td>\n",
       "      <td>Single</td>\n",
       "      <td>5</td>\n",
       "      <td>0</td>\n",
       "      <td>21.0</td>\n",
       "      <td>1.0</td>\n",
       "      <td>2.0</td>\n",
       "      <td>1.0</td>\n",
       "      <td>175.71</td>\n",
       "    </tr>\n",
       "    <tr>\n",
       "      <th>450</th>\n",
       "      <td>50451</td>\n",
       "      <td>0</td>\n",
       "      <td>27.0</td>\n",
       "      <td>Phone</td>\n",
       "      <td>1</td>\n",
       "      <td>25.0</td>\n",
       "      <td>Credit Card</td>\n",
       "      <td>Female</td>\n",
       "      <td>3.0</td>\n",
       "      <td>3</td>\n",
       "      <td>Laptop &amp; Accessory</td>\n",
       "      <td>5</td>\n",
       "      <td>Married</td>\n",
       "      <td>10</td>\n",
       "      <td>1</td>\n",
       "      <td>11.0</td>\n",
       "      <td>0.0</td>\n",
       "      <td>1.0</td>\n",
       "      <td>4.0</td>\n",
       "      <td>154.85</td>\n",
       "    </tr>\n",
       "    <tr>\n",
       "      <th>856</th>\n",
       "      <td>50857</td>\n",
       "      <td>1</td>\n",
       "      <td>0.0</td>\n",
       "      <td>Computer</td>\n",
       "      <td>3</td>\n",
       "      <td>24.0</td>\n",
       "      <td>E wallet</td>\n",
       "      <td>Female</td>\n",
       "      <td>3.0</td>\n",
       "      <td>3</td>\n",
       "      <td>Laptop &amp; Accessory</td>\n",
       "      <td>3</td>\n",
       "      <td>Divorced</td>\n",
       "      <td>1</td>\n",
       "      <td>1</td>\n",
       "      <td>18.0</td>\n",
       "      <td>3.0</td>\n",
       "      <td>3.0</td>\n",
       "      <td>2.0</td>\n",
       "      <td>146.14</td>\n",
       "    </tr>\n",
       "  </tbody>\n",
       "</table>\n",
       "</div>"
      ],
      "text/plain": [
       "      CustomerID  Churn  Tenure PreferredLoginDevice  CityTier  \\\n",
       "665        50666      0     6.0                Phone         1   \n",
       "3092       53093      0     4.0                Phone         3   \n",
       "5134       55135      0     1.0             Computer         3   \n",
       "450        50451      0    27.0                Phone         1   \n",
       "856        50857      1     0.0             Computer         3   \n",
       "\n",
       "      WarehouseToHome PreferredPaymentMode  Gender  HourSpendOnApp  \\\n",
       "665              11.0           Debit Card    Male             2.0   \n",
       "3092             19.0     Cash on Delivery  Female             3.0   \n",
       "5134              9.0           Debit Card    Male             3.0   \n",
       "450              25.0          Credit Card  Female             3.0   \n",
       "856              24.0             E wallet  Female             3.0   \n",
       "\n",
       "      NumberOfDeviceRegistered   PreferredOrderCat  SatisfactionScore  \\\n",
       "665                          4             Fashion                  2   \n",
       "3092                         4  Laptop & Accessory                  3   \n",
       "5134                         6  Laptop & Accessory                  1   \n",
       "450                          3  Laptop & Accessory                  5   \n",
       "856                          3  Laptop & Accessory                  3   \n",
       "\n",
       "     MaritalStatus  NumberOfAddress  Complain  OrderAmountHikeFromlastYear  \\\n",
       "665        Married                5         0                         15.0   \n",
       "3092        Single                2         0                         12.0   \n",
       "5134        Single                5         0                         21.0   \n",
       "450        Married               10         1                         11.0   \n",
       "856       Divorced                1         1                         18.0   \n",
       "\n",
       "      CouponUsed  OrderCount  DaySinceLastOrder  CashbackAmount  \n",
       "665          0.0         1.0                2.0          171.19  \n",
       "3092         4.0         5.0                5.0          190.77  \n",
       "5134         1.0         2.0                1.0          175.71  \n",
       "450          0.0         1.0                4.0          154.85  \n",
       "856          3.0         3.0                2.0          146.14  "
      ]
     },
     "execution_count": 114,
     "metadata": {},
     "output_type": "execute_result"
    }
   ],
   "source": [
    "churn_df_copy.sample(5)"
   ]
  },
  {
   "cell_type": "code",
   "execution_count": 115,
   "id": "a11fa207",
   "metadata": {},
   "outputs": [
    {
     "data": {
      "text/plain": [
       "DaySinceLastOrder              307\n",
       "OrderAmountHikeFromlastYear    265\n",
       "Tenure                         264\n",
       "OrderCount                     258\n",
       "CouponUsed                     256\n",
       "HourSpendOnApp                 255\n",
       "WarehouseToHome                251\n",
       "CustomerID                       0\n",
       "MaritalStatus                    0\n",
       "Complain                         0\n",
       "NumberOfAddress                  0\n",
       "PreferredOrderCat                0\n",
       "SatisfactionScore                0\n",
       "Churn                            0\n",
       "NumberOfDeviceRegistered         0\n",
       "Gender                           0\n",
       "PreferredPaymentMode             0\n",
       "CityTier                         0\n",
       "PreferredLoginDevice             0\n",
       "CashbackAmount                   0\n",
       "dtype: int64"
      ]
     },
     "execution_count": 115,
     "metadata": {},
     "output_type": "execute_result"
    }
   ],
   "source": [
    "# The number of values missing in each of our columns\n",
    "churn_df_copy.isna().sum().sort_values(ascending=False)\n"
   ]
  },
  {
   "cell_type": "markdown",
   "id": "e788be1b",
   "metadata": {},
   "source": [
    "__In a real setting, it would be best to ask (e.g the data provider, data engineer, manager) why these values are missing or what 'missing' means for each of these columns<br/>__\n",
    "__We will also be referencing the plot from the explanatory_analysis.ipynb notebook to understand the distribution of numerical columns__\n",
    "\n",
    "<hr/>"
   ]
  },
  {
   "cell_type": "markdown",
   "id": "34bf93cd",
   "metadata": {},
   "source": [
    "### <u>Days Since Last Order (`DaySinceLastOrder`)</u>\n",
    "__The number of days that have passed since a customer made their most recent purchase__\n",
    "\n",
    "<li>We are going to create a new feature from the missing values. NaN <b>could mean that the customer has never actually placed an order</b></li> \n",
    "<li>We'll change the column values from decimal to integer</li> \n",
    "<li>A large or negative number can skew the data or confuse machine learning models later on in the project</li>\n"
   ]
  },
  {
   "cell_type": "code",
   "execution_count": 116,
   "id": "1120151e",
   "metadata": {},
   "outputs": [
    {
     "data": {
      "text/html": [
       "<div>\n",
       "<style scoped>\n",
       "    .dataframe tbody tr th:only-of-type {\n",
       "        vertical-align: middle;\n",
       "    }\n",
       "\n",
       "    .dataframe tbody tr th {\n",
       "        vertical-align: top;\n",
       "    }\n",
       "\n",
       "    .dataframe thead th {\n",
       "        text-align: right;\n",
       "    }\n",
       "</style>\n",
       "<table border=\"1\" class=\"dataframe\">\n",
       "  <thead>\n",
       "    <tr style=\"text-align: right;\">\n",
       "      <th></th>\n",
       "      <th>CustomerID</th>\n",
       "      <th>Churn</th>\n",
       "      <th>Tenure</th>\n",
       "      <th>PreferredLoginDevice</th>\n",
       "      <th>CityTier</th>\n",
       "      <th>WarehouseToHome</th>\n",
       "      <th>PreferredPaymentMode</th>\n",
       "      <th>Gender</th>\n",
       "      <th>HourSpendOnApp</th>\n",
       "      <th>NumberOfDeviceRegistered</th>\n",
       "      <th>PreferredOrderCat</th>\n",
       "      <th>SatisfactionScore</th>\n",
       "      <th>MaritalStatus</th>\n",
       "      <th>NumberOfAddress</th>\n",
       "      <th>Complain</th>\n",
       "      <th>OrderAmountHikeFromlastYear</th>\n",
       "      <th>CouponUsed</th>\n",
       "      <th>OrderCount</th>\n",
       "      <th>DaySinceLastOrder</th>\n",
       "      <th>CashbackAmount</th>\n",
       "    </tr>\n",
       "  </thead>\n",
       "  <tbody>\n",
       "    <tr>\n",
       "      <th>2979</th>\n",
       "      <td>52980</td>\n",
       "      <td>0</td>\n",
       "      <td>2.0</td>\n",
       "      <td>Phone</td>\n",
       "      <td>1</td>\n",
       "      <td>15.0</td>\n",
       "      <td>Debit Card</td>\n",
       "      <td>Female</td>\n",
       "      <td>4.0</td>\n",
       "      <td>4</td>\n",
       "      <td>Mobile Phone</td>\n",
       "      <td>2</td>\n",
       "      <td>Single</td>\n",
       "      <td>3</td>\n",
       "      <td>0</td>\n",
       "      <td>22.0</td>\n",
       "      <td>1.0</td>\n",
       "      <td>2.0</td>\n",
       "      <td>3</td>\n",
       "      <td>158.10</td>\n",
       "    </tr>\n",
       "    <tr>\n",
       "      <th>3171</th>\n",
       "      <td>53172</td>\n",
       "      <td>0</td>\n",
       "      <td>8.0</td>\n",
       "      <td>Phone</td>\n",
       "      <td>1</td>\n",
       "      <td>7.0</td>\n",
       "      <td>Debit Card</td>\n",
       "      <td>Male</td>\n",
       "      <td>3.0</td>\n",
       "      <td>5</td>\n",
       "      <td>Mobile Phone</td>\n",
       "      <td>2</td>\n",
       "      <td>Divorced</td>\n",
       "      <td>3</td>\n",
       "      <td>1</td>\n",
       "      <td>14.0</td>\n",
       "      <td>1.0</td>\n",
       "      <td>2.0</td>\n",
       "      <td>4</td>\n",
       "      <td>161.22</td>\n",
       "    </tr>\n",
       "    <tr>\n",
       "      <th>581</th>\n",
       "      <td>50582</td>\n",
       "      <td>1</td>\n",
       "      <td>3.0</td>\n",
       "      <td>Computer</td>\n",
       "      <td>3</td>\n",
       "      <td>30.0</td>\n",
       "      <td>Debit Card</td>\n",
       "      <td>Female</td>\n",
       "      <td>3.0</td>\n",
       "      <td>1</td>\n",
       "      <td>Grocery</td>\n",
       "      <td>4</td>\n",
       "      <td>Single</td>\n",
       "      <td>5</td>\n",
       "      <td>1</td>\n",
       "      <td>16.0</td>\n",
       "      <td>1.0</td>\n",
       "      <td>NaN</td>\n",
       "      <td>0</td>\n",
       "      <td>231.94</td>\n",
       "    </tr>\n",
       "    <tr>\n",
       "      <th>4555</th>\n",
       "      <td>54556</td>\n",
       "      <td>0</td>\n",
       "      <td>17.0</td>\n",
       "      <td>Computer</td>\n",
       "      <td>1</td>\n",
       "      <td>28.0</td>\n",
       "      <td>Credit Card</td>\n",
       "      <td>Male</td>\n",
       "      <td>4.0</td>\n",
       "      <td>4</td>\n",
       "      <td>Mobile Phone</td>\n",
       "      <td>1</td>\n",
       "      <td>Married</td>\n",
       "      <td>9</td>\n",
       "      <td>0</td>\n",
       "      <td>21.0</td>\n",
       "      <td>2.0</td>\n",
       "      <td>2.0</td>\n",
       "      <td>3</td>\n",
       "      <td>147.58</td>\n",
       "    </tr>\n",
       "    <tr>\n",
       "      <th>1644</th>\n",
       "      <td>51645</td>\n",
       "      <td>0</td>\n",
       "      <td>24.0</td>\n",
       "      <td>Phone</td>\n",
       "      <td>1</td>\n",
       "      <td>8.0</td>\n",
       "      <td>Credit Card</td>\n",
       "      <td>Male</td>\n",
       "      <td>2.0</td>\n",
       "      <td>5</td>\n",
       "      <td>Laptop &amp; Accessory</td>\n",
       "      <td>4</td>\n",
       "      <td>Married</td>\n",
       "      <td>6</td>\n",
       "      <td>0</td>\n",
       "      <td>18.0</td>\n",
       "      <td>0.0</td>\n",
       "      <td>1.0</td>\n",
       "      <td>2</td>\n",
       "      <td>154.82</td>\n",
       "    </tr>\n",
       "  </tbody>\n",
       "</table>\n",
       "</div>"
      ],
      "text/plain": [
       "      CustomerID  Churn  Tenure PreferredLoginDevice  CityTier  \\\n",
       "2979       52980      0     2.0                Phone         1   \n",
       "3171       53172      0     8.0                Phone         1   \n",
       "581        50582      1     3.0             Computer         3   \n",
       "4555       54556      0    17.0             Computer         1   \n",
       "1644       51645      0    24.0                Phone         1   \n",
       "\n",
       "      WarehouseToHome PreferredPaymentMode  Gender  HourSpendOnApp  \\\n",
       "2979             15.0           Debit Card  Female             4.0   \n",
       "3171              7.0           Debit Card    Male             3.0   \n",
       "581              30.0           Debit Card  Female             3.0   \n",
       "4555             28.0          Credit Card    Male             4.0   \n",
       "1644              8.0          Credit Card    Male             2.0   \n",
       "\n",
       "      NumberOfDeviceRegistered   PreferredOrderCat  SatisfactionScore  \\\n",
       "2979                         4        Mobile Phone                  2   \n",
       "3171                         5        Mobile Phone                  2   \n",
       "581                          1             Grocery                  4   \n",
       "4555                         4        Mobile Phone                  1   \n",
       "1644                         5  Laptop & Accessory                  4   \n",
       "\n",
       "     MaritalStatus  NumberOfAddress  Complain  OrderAmountHikeFromlastYear  \\\n",
       "2979        Single                3         0                         22.0   \n",
       "3171      Divorced                3         1                         14.0   \n",
       "581         Single                5         1                         16.0   \n",
       "4555       Married                9         0                         21.0   \n",
       "1644       Married                6         0                         18.0   \n",
       "\n",
       "      CouponUsed  OrderCount  DaySinceLastOrder  CashbackAmount  \n",
       "2979         1.0         2.0                  3          158.10  \n",
       "3171         1.0         2.0                  4          161.22  \n",
       "581          1.0         NaN                  0          231.94  \n",
       "4555         2.0         2.0                  3          147.58  \n",
       "1644         0.0         1.0                  2          154.82  "
      ]
     },
     "execution_count": 116,
     "metadata": {},
     "output_type": "execute_result"
    }
   ],
   "source": [
    "churn_df_copy[\"DaySinceLastOrder\"].max()    # Maximum number of days a customer hasn't ordered is 46\n",
    "\n",
    "\n",
    "# Median to fill missing values\n",
    "median = churn_df_copy[\"DaySinceLastOrder\"].median()    # Median value is 3\n",
    "churn_df_copy.fillna({\"DaySinceLastOrder\": median}, inplace=True)\n",
    "\n",
    "\n",
    "# Converting `DaySinceLastOrder` column to an integer\n",
    "churn_df_copy['DaySinceLastOrder'] = churn_df_copy['DaySinceLastOrder'].astype(int)\n",
    "\n",
    "churn_df_copy[\"DaySinceLastOrder\"].isna().any()     # False\n",
    "churn_df_copy.sample(5)"
   ]
  },
  {
   "cell_type": "markdown",
   "id": "68410553",
   "metadata": {},
   "source": [
    "<p>We won't be adding a new feature, the dataset shows that some values that were missing actually used coupons and had orders. The missing values may a data entry issue</P>\n",
    "<p>For the sake of this project, we will be imputing missing vallues with the median. More context would be needed to know how best to handle this</p>\n"
   ]
  },
  {
   "cell_type": "markdown",
   "id": "493bbf43",
   "metadata": {},
   "source": [
    "<hr/>"
   ]
  },
  {
   "cell_type": "markdown",
   "id": "e0296be0",
   "metadata": {},
   "source": [
    "### <u>Order Amount Hike From Last Year (`OrderAmountHikeFromlastYear`)</u>\n",
    "__The percentage increase (or change) in the total amount a customer spent this year compared to the previous year__\n",
    "\n",
    "If the missing values is due to new customers, we could create a feature that flags such customers. It would help to get additional data from the data source if possible\n",
    "\n",
    "**Missing values could mean:**\n",
    "+ No order history last year\n",
    "+ A data issue\n",
    "+ A user who's new to the platform\n",
    "\n",
    "\n",
    "<p>Some of these missing values are from customers who placed orders recently and received cashback</p>"
   ]
  },
  {
   "cell_type": "code",
   "execution_count": 117,
   "id": "599106bc",
   "metadata": {},
   "outputs": [
    {
     "data": {
      "text/html": [
       "<div>\n",
       "<style scoped>\n",
       "    .dataframe tbody tr th:only-of-type {\n",
       "        vertical-align: middle;\n",
       "    }\n",
       "\n",
       "    .dataframe tbody tr th {\n",
       "        vertical-align: top;\n",
       "    }\n",
       "\n",
       "    .dataframe thead th {\n",
       "        text-align: right;\n",
       "    }\n",
       "</style>\n",
       "<table border=\"1\" class=\"dataframe\">\n",
       "  <thead>\n",
       "    <tr style=\"text-align: right;\">\n",
       "      <th></th>\n",
       "      <th>Tenure</th>\n",
       "      <th>DaySinceLastOrder</th>\n",
       "      <th>OrderCount</th>\n",
       "      <th>CashbackAmount</th>\n",
       "      <th>OrderAmountHikeFromlastYear(%)</th>\n",
       "    </tr>\n",
       "  </thead>\n",
       "  <tbody>\n",
       "    <tr>\n",
       "      <th>40</th>\n",
       "      <td>23.0</td>\n",
       "      <td>4</td>\n",
       "      <td>4.0</td>\n",
       "      <td>299.26</td>\n",
       "      <td>NaN</td>\n",
       "    </tr>\n",
       "    <tr>\n",
       "      <th>65</th>\n",
       "      <td>25.0</td>\n",
       "      <td>9</td>\n",
       "      <td>11.0</td>\n",
       "      <td>299.99</td>\n",
       "      <td>NaN</td>\n",
       "    </tr>\n",
       "    <tr>\n",
       "      <th>106</th>\n",
       "      <td>15.0</td>\n",
       "      <td>15</td>\n",
       "      <td>11.0</td>\n",
       "      <td>292.32</td>\n",
       "      <td>NaN</td>\n",
       "    </tr>\n",
       "    <tr>\n",
       "      <th>108</th>\n",
       "      <td>23.0</td>\n",
       "      <td>6</td>\n",
       "      <td>1.0</td>\n",
       "      <td>295.17</td>\n",
       "      <td>NaN</td>\n",
       "    </tr>\n",
       "    <tr>\n",
       "      <th>119</th>\n",
       "      <td>18.0</td>\n",
       "      <td>7</td>\n",
       "      <td>1.0</td>\n",
       "      <td>292.02</td>\n",
       "      <td>NaN</td>\n",
       "    </tr>\n",
       "    <tr>\n",
       "      <th>...</th>\n",
       "      <td>...</td>\n",
       "      <td>...</td>\n",
       "      <td>...</td>\n",
       "      <td>...</td>\n",
       "      <td>...</td>\n",
       "    </tr>\n",
       "    <tr>\n",
       "      <th>5534</th>\n",
       "      <td>61.0</td>\n",
       "      <td>1</td>\n",
       "      <td>2.0</td>\n",
       "      <td>303.75</td>\n",
       "      <td>NaN</td>\n",
       "    </tr>\n",
       "    <tr>\n",
       "      <th>5537</th>\n",
       "      <td>23.0</td>\n",
       "      <td>4</td>\n",
       "      <td>5.0</td>\n",
       "      <td>316.61</td>\n",
       "      <td>NaN</td>\n",
       "    </tr>\n",
       "    <tr>\n",
       "      <th>5561</th>\n",
       "      <td>29.0</td>\n",
       "      <td>5</td>\n",
       "      <td>2.0</td>\n",
       "      <td>321.36</td>\n",
       "      <td>NaN</td>\n",
       "    </tr>\n",
       "    <tr>\n",
       "      <th>5597</th>\n",
       "      <td>13.0</td>\n",
       "      <td>4</td>\n",
       "      <td>2.0</td>\n",
       "      <td>319.31</td>\n",
       "      <td>NaN</td>\n",
       "    </tr>\n",
       "    <tr>\n",
       "      <th>5603</th>\n",
       "      <td>16.0</td>\n",
       "      <td>15</td>\n",
       "      <td>5.0</td>\n",
       "      <td>313.80</td>\n",
       "      <td>NaN</td>\n",
       "    </tr>\n",
       "  </tbody>\n",
       "</table>\n",
       "<p>253 rows × 5 columns</p>\n",
       "</div>"
      ],
      "text/plain": [
       "      Tenure  DaySinceLastOrder  OrderCount  CashbackAmount  \\\n",
       "40      23.0                  4         4.0          299.26   \n",
       "65      25.0                  9        11.0          299.99   \n",
       "106     15.0                 15        11.0          292.32   \n",
       "108     23.0                  6         1.0          295.17   \n",
       "119     18.0                  7         1.0          292.02   \n",
       "...      ...                ...         ...             ...   \n",
       "5534    61.0                  1         2.0          303.75   \n",
       "5537    23.0                  4         5.0          316.61   \n",
       "5561    29.0                  5         2.0          321.36   \n",
       "5597    13.0                  4         2.0          319.31   \n",
       "5603    16.0                 15         5.0          313.80   \n",
       "\n",
       "      OrderAmountHikeFromlastYear(%)  \n",
       "40                               NaN  \n",
       "65                               NaN  \n",
       "106                              NaN  \n",
       "108                              NaN  \n",
       "119                              NaN  \n",
       "...                              ...  \n",
       "5534                             NaN  \n",
       "5537                             NaN  \n",
       "5561                             NaN  \n",
       "5597                             NaN  \n",
       "5603                             NaN  \n",
       "\n",
       "[253 rows x 5 columns]"
      ]
     },
     "execution_count": 117,
     "metadata": {},
     "output_type": "execute_result"
    }
   ],
   "source": [
    "churn_df_copy.rename(columns={\n",
    "    \"OrderAmountHikeFromlastYear\" : \"OrderAmountHikeFromlastYear(%)\"\n",
    "}, inplace=True)\n",
    "\n",
    "# Better view of how missing values in OrderAmountHikeFromlastYear(%) coolumn relates with others\n",
    "churn_df_copy[[\n",
    "    \"Tenure\",\"DaySinceLastOrder\",\"OrderCount\",\n",
    "    \"CashbackAmount\", \"OrderAmountHikeFromlastYear(%)\"]][churn_df_copy[\"OrderAmountHikeFromlastYear(%)\"].isna()].query(\"Tenure > 11\")"
   ]
  },
  {
   "cell_type": "code",
   "execution_count": 118,
   "id": "1d214f17",
   "metadata": {},
   "outputs": [
    {
     "name": "stdout",
     "output_type": "stream",
     "text": [
      "max % hike from a customer is 26.0\n"
     ]
    }
   ],
   "source": [
    "print(f\"max % hike from a customer is {churn_df_copy[\"OrderAmountHikeFromlastYear(%)\"].max()}\")\n",
    "median = churn_df_copy[\"OrderAmountHikeFromlastYear(%)\"].median()    # Median value is 15%\n",
    "churn_df_copy.fillna({\"OrderAmountHikeFromlastYear(%)\": median}, inplace=True)"
   ]
  },
  {
   "cell_type": "markdown",
   "id": "f3b2989e",
   "metadata": {},
   "source": [
    "Out of __265__ rows with missing values, __253__ of them have been around for at least a year. \n",
    "\n",
    "This indicates the missingness is **not due to new customers**, but likely due to **data or recording errors**.\n",
    "\n",
    "To maintain its distribution integrity, we imputed these missing values with the **median** of the non-missing data."
   ]
  },
  {
   "cell_type": "code",
   "execution_count": 119,
   "id": "bb1f1403",
   "metadata": {},
   "outputs": [
    {
     "data": {
      "text/plain": [
       "Tenure                            264\n",
       "OrderCount                        258\n",
       "CouponUsed                        256\n",
       "HourSpendOnApp                    255\n",
       "WarehouseToHome                   251\n",
       "CustomerID                          0\n",
       "MaritalStatus                       0\n",
       "DaySinceLastOrder                   0\n",
       "OrderAmountHikeFromlastYear(%)      0\n",
       "Complain                            0\n",
       "NumberOfAddress                     0\n",
       "PreferredOrderCat                   0\n",
       "SatisfactionScore                   0\n",
       "Churn                               0\n",
       "NumberOfDeviceRegistered            0\n",
       "Gender                              0\n",
       "PreferredPaymentMode                0\n",
       "CityTier                            0\n",
       "PreferredLoginDevice                0\n",
       "CashbackAmount                      0\n",
       "dtype: int64"
      ]
     },
     "execution_count": 119,
     "metadata": {},
     "output_type": "execute_result"
    }
   ],
   "source": [
    "# The number of values missing in each of our columns out of 5630 entries\n",
    "churn_df_copy.isna().sum().sort_values(ascending=False)"
   ]
  },
  {
   "cell_type": "markdown",
   "id": "9cf699e5",
   "metadata": {},
   "source": [
    "<hr/>"
   ]
  },
  {
   "cell_type": "markdown",
   "id": "815bf867",
   "metadata": {},
   "source": [
    "### <u>Tenure</u>\n",
    "+ `Tenure` column ranges from 0 - 61, the data dictionary doesn't make it clear if its values are in months or in days\n",
    "+ We will take that tenure is in months as it is the typical standard for ecommerce data and according to the data dictionary, many other column values are measured in months as well"
   ]
  },
  {
   "cell_type": "code",
   "execution_count": 120,
   "id": "66a9e291",
   "metadata": {},
   "outputs": [],
   "source": [
    "churn_df_copy.rename(columns={\n",
    "    \"Tenure\" : \"Tenure(months)\"\n",
    "}, inplace=True)"
   ]
  },
  {
   "cell_type": "code",
   "execution_count": 121,
   "id": "b8c3d983",
   "metadata": {},
   "outputs": [
    {
     "data": {
      "text/plain": [
       "CustomerID                        0.029952\n",
       "Churn                            -0.349408\n",
       "Tenure(months)                    1.000000\n",
       "CityTier                         -0.060688\n",
       "WarehouseToHome                  -0.018218\n",
       "HourSpendOnApp                   -0.021226\n",
       "NumberOfDeviceRegistered         -0.023983\n",
       "SatisfactionScore                -0.013903\n",
       "NumberOfAddress                   0.237666\n",
       "Complain                         -0.021268\n",
       "OrderAmountHikeFromlastYear(%)   -0.006693\n",
       "CouponUsed                        0.129035\n",
       "OrderCount                        0.186403\n",
       "DaySinceLastOrder                 0.173696\n",
       "CashbackAmount                    0.476380\n",
       "Name: Tenure(months), dtype: float64"
      ]
     },
     "execution_count": 121,
     "metadata": {},
     "output_type": "execute_result"
    }
   ],
   "source": [
    "churn_df_copy.corr(numeric_only=True)[\"Tenure(months)\"]"
   ]
  },
  {
   "cell_type": "markdown",
   "id": "878bead2",
   "metadata": {},
   "source": [
    "Tenure is likely in months because it also has a weak correlation with the `DaySinceLastOrder` column. If it were in days, there would be a stronger correlation between the two."
   ]
  },
  {
   "cell_type": "code",
   "execution_count": 122,
   "id": "4119227d",
   "metadata": {},
   "outputs": [
    {
     "data": {
      "text/plain": [
       "Tenure(months)                    264\n",
       "CashbackAmount                      0\n",
       "OrderCount                          0\n",
       "OrderAmountHikeFromlastYear(%)      0\n",
       "dtype: int64"
      ]
     },
     "execution_count": 122,
     "metadata": {},
     "output_type": "execute_result"
    }
   ],
   "source": [
    "missing_tenure = churn_df_copy[[\"Tenure(months)\", \"CashbackAmount\", \"OrderCount\", \"OrderAmountHikeFromlastYear(%)\"]][churn_df_copy[\"Tenure(months)\"].isna()]\n",
    "missing_tenure.isna().sum()"
   ]
  },
  {
   "cell_type": "markdown",
   "id": "deb33ca8",
   "metadata": {},
   "source": [
    "\n",
    "+ Missing values in `Tenure` column have corrsponding values in other columns that indicate customer activity within a month so this is not a case of missing tenure due to new users\n",
    "+ Missingness in this case is random; we will input the missing values with the average customer tenure for all our customers"
   ]
  },
  {
   "cell_type": "code",
   "execution_count": 123,
   "id": "026481b6",
   "metadata": {},
   "outputs": [
    {
     "data": {
      "text/plain": [
       "<Axes: >"
      ]
     },
     "execution_count": 123,
     "metadata": {},
     "output_type": "execute_result"
    },
    {
     "data": {
      "image/png": "[encoded data removed]",
      "text/plain": [
       "<Figure size 640x480 with 1 Axes>"
      ]
     },
     "metadata": {},
     "output_type": "display_data"
    }
   ],
   "source": [
    "median = churn_df_copy[\"Tenure(months)\"].median()    # Median value is 9\n",
    "churn_df_copy.fillna({\"Tenure(months)\": median}, inplace=True)\n",
    "\n",
    "churn_df_copy['Tenure(months)'].hist(bins=15)"
   ]
  },
  {
   "cell_type": "markdown",
   "id": "b9ddeded",
   "metadata": {},
   "source": [
    "Most of our customers stay from 0-10 months (would be more unrealistic if tenure was measured in days)"
   ]
  },
  {
   "cell_type": "markdown",
   "id": "91c1ce91",
   "metadata": {},
   "source": [
    "<hr/>"
   ]
  },
  {
   "cell_type": "markdown",
   "id": "32e0745a",
   "metadata": {},
   "source": [
    "### <u>WarehouseToHome</u>\n",
    "+ This column has 251 missing values. Since this is a location-based profile feature (likely in kilometers), we assumed the missingness was due to incomplete address records. We imputed with the median to preserve its distribution without skewing the data or outliers.\n"
   ]
  },
  {
   "cell_type": "code",
   "execution_count": 124,
   "id": "4c772cd9",
   "metadata": {},
   "outputs": [
    {
     "data": {
      "text/plain": [
       "<Axes: >"
      ]
     },
     "execution_count": 124,
     "metadata": {},
     "output_type": "execute_result"
    },
    {
     "data": {
      "image/png": "[encoded data removed]",
      "text/plain": [
       "<Figure size 640x480 with 1 Axes>"
      ]
     },
     "metadata": {},
     "output_type": "display_data"
    }
   ],
   "source": [
    "median = churn_df_copy[\"WarehouseToHome\"].median()    # Median value is 14.0 (km)\n",
    "churn_df_copy.fillna({\"WarehouseToHome\": median}, inplace=True)\\\n",
    "\n",
    "churn_df_copy[\"WarehouseToHome\"].hist(bins=20)"
   ]
  },
  {
   "cell_type": "markdown",
   "id": "e4db992a",
   "metadata": {},
   "source": [
    "Most of our custumers live within 20km of our warehouse"
   ]
  },
  {
   "cell_type": "markdown",
   "id": "19b5d3ff",
   "metadata": {},
   "source": [
    "<hr/>"
   ]
  },
  {
   "cell_type": "code",
   "execution_count": 125,
   "id": "201af856",
   "metadata": {},
   "outputs": [
    {
     "data": {
      "text/plain": [
       "OrderCount                        258\n",
       "CouponUsed                        256\n",
       "HourSpendOnApp                    255\n",
       "CustomerID                          0\n",
       "SatisfactionScore                   0\n",
       "DaySinceLastOrder                   0\n",
       "OrderAmountHikeFromlastYear(%)      0\n",
       "Complain                            0\n",
       "NumberOfAddress                     0\n",
       "MaritalStatus                       0\n",
       "PreferredOrderCat                   0\n",
       "Churn                               0\n",
       "NumberOfDeviceRegistered            0\n",
       "Gender                              0\n",
       "PreferredPaymentMode                0\n",
       "WarehouseToHome                     0\n",
       "CityTier                            0\n",
       "PreferredLoginDevice                0\n",
       "Tenure(months)                      0\n",
       "CashbackAmount                      0\n",
       "dtype: int64"
      ]
     },
     "execution_count": 125,
     "metadata": {},
     "output_type": "execute_result"
    }
   ],
   "source": [
    "churn_df_copy.isna().sum().sort_values(ascending=False)"
   ]
  },
  {
   "cell_type": "code",
   "execution_count": null,
   "id": "fb1705e0",
   "metadata": {},
   "outputs": [],
   "source": []
  },
  {
   "cell_type": "code",
   "execution_count": null,
   "id": "0771d8c6",
   "metadata": {},
   "outputs": [],
   "source": []
  },
  {
   "cell_type": "code",
   "execution_count": null,
   "id": "807c2dda",
   "metadata": {},
   "outputs": [],
   "source": []
  }
 ],
 "metadata": {
  "kernelspec": {
   "display_name": "base",
   "language": "python",
   "name": "python3"
  },
  "language_info": {
   "codemirror_mode": {
    "name": "ipython",
    "version": 3
   },
   "file_extension": ".py",
   "mimetype": "text/x-python",
   "name": "python",
   "nbconvert_exporter": "python",
   "pygments_lexer": "ipython3",
   "version": "3.12.7"
  }
 },
 "nbformat": 4,
 "nbformat_minor": 5
}
